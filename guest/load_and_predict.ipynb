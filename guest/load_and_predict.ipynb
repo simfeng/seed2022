{
 "cells": [
  {
   "cell_type": "code",
   "execution_count": 1,
   "metadata": {},
   "outputs": [],
   "source": [
    "import pandas as pd\n",
    "import numpy as np\n",
    "import matplotlib.pyplot as plt\n",
    "from pathlib import Path\n",
    "\n",
    "base_dir = Path.cwd() / 'output'"
   ]
  },
  {
   "cell_type": "code",
   "execution_count": 5,
   "metadata": {},
   "outputs": [],
   "source": [
    "def parse_sid(row):\n",
    "    _sid = row['sid'].astype(str)\n",
    "    return float(_sid[:7]), float(_sid[7:11]), float(_sid[11:])"
   ]
  },
  {
   "cell_type": "code",
   "execution_count": 3,
   "metadata": {},
   "outputs": [
    {
     "ename": "FileNotFoundError",
     "evalue": "[Errno 2] No such file or directory: '/Users/zhengquan/Code/SEED2022/seed2022/guest/output/003_result_202211241039394719460.csv'",
     "output_type": "error",
     "traceback": [
      "\u001b[0;31m---------------------------------------------------------------------------\u001b[0m",
      "\u001b[0;31mFileNotFoundError\u001b[0m                         Traceback (most recent call last)",
      "Cell \u001b[0;32mIn [3], line 2\u001b[0m\n\u001b[1;32m      1\u001b[0m \u001b[39m# 季度数据处理\u001b[39;00m\n\u001b[0;32m----> 2\u001b[0m predict_data \u001b[39m=\u001b[39m pd\u001b[39m.\u001b[39;49mread_csv(\n\u001b[1;32m      3\u001b[0m     base_dir \u001b[39m/\u001b[39;49m \u001b[39m'\u001b[39;49m\u001b[39m003_result_202211241039394719460.csv\u001b[39;49m\u001b[39m'\u001b[39;49m)\u001b[39m.\u001b[39msort_values(\u001b[39m'\u001b[39m\u001b[39msid\u001b[39m\u001b[39m'\u001b[39m)[[\n\u001b[1;32m      4\u001b[0m         \u001b[39m'\u001b[39m\u001b[39msid\u001b[39m\u001b[39m'\u001b[39m, \u001b[39m'\u001b[39m\u001b[39mlabel\u001b[39m\u001b[39m'\u001b[39m, \u001b[39m'\u001b[39m\u001b[39mpredict_result\u001b[39m\u001b[39m'\u001b[39m\n\u001b[1;32m      5\u001b[0m     ]]\n\u001b[1;32m      6\u001b[0m predict_data[[\u001b[39m'\u001b[39m\u001b[39mID\u001b[39m\u001b[39m'\u001b[39m, \u001b[39m'\u001b[39m\u001b[39myear\u001b[39m\u001b[39m'\u001b[39m,\n\u001b[1;32m      7\u001b[0m               \u001b[39m'\u001b[39m\u001b[39mseason\u001b[39m\u001b[39m'\u001b[39m]] \u001b[39m=\u001b[39m predict_data\u001b[39m.\u001b[39mapply(parse_sid, axis\u001b[39m=\u001b[39m\u001b[39m1\u001b[39m,\n\u001b[1;32m      8\u001b[0m                                               result_type\u001b[39m=\u001b[39m\u001b[39m\"\u001b[39m\u001b[39mexpand\u001b[39m\u001b[39m\"\u001b[39m)\n\u001b[1;32m      9\u001b[0m predict_data\u001b[39m.\u001b[39mto_csv(\u001b[39m'\u001b[39m\u001b[39moutput/result_sort.csv\u001b[39m\u001b[39m'\u001b[39m)\n",
      "File \u001b[0;32m/Applications/anaconda3/envs/SEED2022/lib/python3.8/site-packages/pandas/util/_decorators.py:211\u001b[0m, in \u001b[0;36mdeprecate_kwarg.<locals>._deprecate_kwarg.<locals>.wrapper\u001b[0;34m(*args, **kwargs)\u001b[0m\n\u001b[1;32m    209\u001b[0m     \u001b[39melse\u001b[39;00m:\n\u001b[1;32m    210\u001b[0m         kwargs[new_arg_name] \u001b[39m=\u001b[39m new_arg_value\n\u001b[0;32m--> 211\u001b[0m \u001b[39mreturn\u001b[39;00m func(\u001b[39m*\u001b[39;49margs, \u001b[39m*\u001b[39;49m\u001b[39m*\u001b[39;49mkwargs)\n",
      "File \u001b[0;32m/Applications/anaconda3/envs/SEED2022/lib/python3.8/site-packages/pandas/util/_decorators.py:331\u001b[0m, in \u001b[0;36mdeprecate_nonkeyword_arguments.<locals>.decorate.<locals>.wrapper\u001b[0;34m(*args, **kwargs)\u001b[0m\n\u001b[1;32m    325\u001b[0m \u001b[39mif\u001b[39;00m \u001b[39mlen\u001b[39m(args) \u001b[39m>\u001b[39m num_allow_args:\n\u001b[1;32m    326\u001b[0m     warnings\u001b[39m.\u001b[39mwarn(\n\u001b[1;32m    327\u001b[0m         msg\u001b[39m.\u001b[39mformat(arguments\u001b[39m=\u001b[39m_format_argument_list(allow_args)),\n\u001b[1;32m    328\u001b[0m         \u001b[39mFutureWarning\u001b[39;00m,\n\u001b[1;32m    329\u001b[0m         stacklevel\u001b[39m=\u001b[39mfind_stack_level(),\n\u001b[1;32m    330\u001b[0m     )\n\u001b[0;32m--> 331\u001b[0m \u001b[39mreturn\u001b[39;00m func(\u001b[39m*\u001b[39;49margs, \u001b[39m*\u001b[39;49m\u001b[39m*\u001b[39;49mkwargs)\n",
      "File \u001b[0;32m/Applications/anaconda3/envs/SEED2022/lib/python3.8/site-packages/pandas/io/parsers/readers.py:950\u001b[0m, in \u001b[0;36mread_csv\u001b[0;34m(filepath_or_buffer, sep, delimiter, header, names, index_col, usecols, squeeze, prefix, mangle_dupe_cols, dtype, engine, converters, true_values, false_values, skipinitialspace, skiprows, skipfooter, nrows, na_values, keep_default_na, na_filter, verbose, skip_blank_lines, parse_dates, infer_datetime_format, keep_date_col, date_parser, dayfirst, cache_dates, iterator, chunksize, compression, thousands, decimal, lineterminator, quotechar, quoting, doublequote, escapechar, comment, encoding, encoding_errors, dialect, error_bad_lines, warn_bad_lines, on_bad_lines, delim_whitespace, low_memory, memory_map, float_precision, storage_options)\u001b[0m\n\u001b[1;32m    935\u001b[0m kwds_defaults \u001b[39m=\u001b[39m _refine_defaults_read(\n\u001b[1;32m    936\u001b[0m     dialect,\n\u001b[1;32m    937\u001b[0m     delimiter,\n\u001b[0;32m   (...)\u001b[0m\n\u001b[1;32m    946\u001b[0m     defaults\u001b[39m=\u001b[39m{\u001b[39m\"\u001b[39m\u001b[39mdelimiter\u001b[39m\u001b[39m\"\u001b[39m: \u001b[39m\"\u001b[39m\u001b[39m,\u001b[39m\u001b[39m\"\u001b[39m},\n\u001b[1;32m    947\u001b[0m )\n\u001b[1;32m    948\u001b[0m kwds\u001b[39m.\u001b[39mupdate(kwds_defaults)\n\u001b[0;32m--> 950\u001b[0m \u001b[39mreturn\u001b[39;00m _read(filepath_or_buffer, kwds)\n",
      "File \u001b[0;32m/Applications/anaconda3/envs/SEED2022/lib/python3.8/site-packages/pandas/io/parsers/readers.py:605\u001b[0m, in \u001b[0;36m_read\u001b[0;34m(filepath_or_buffer, kwds)\u001b[0m\n\u001b[1;32m    602\u001b[0m _validate_names(kwds\u001b[39m.\u001b[39mget(\u001b[39m\"\u001b[39m\u001b[39mnames\u001b[39m\u001b[39m\"\u001b[39m, \u001b[39mNone\u001b[39;00m))\n\u001b[1;32m    604\u001b[0m \u001b[39m# Create the parser.\u001b[39;00m\n\u001b[0;32m--> 605\u001b[0m parser \u001b[39m=\u001b[39m TextFileReader(filepath_or_buffer, \u001b[39m*\u001b[39;49m\u001b[39m*\u001b[39;49mkwds)\n\u001b[1;32m    607\u001b[0m \u001b[39mif\u001b[39;00m chunksize \u001b[39mor\u001b[39;00m iterator:\n\u001b[1;32m    608\u001b[0m     \u001b[39mreturn\u001b[39;00m parser\n",
      "File \u001b[0;32m/Applications/anaconda3/envs/SEED2022/lib/python3.8/site-packages/pandas/io/parsers/readers.py:1442\u001b[0m, in \u001b[0;36mTextFileReader.__init__\u001b[0;34m(self, f, engine, **kwds)\u001b[0m\n\u001b[1;32m   1439\u001b[0m     \u001b[39mself\u001b[39m\u001b[39m.\u001b[39moptions[\u001b[39m\"\u001b[39m\u001b[39mhas_index_names\u001b[39m\u001b[39m\"\u001b[39m] \u001b[39m=\u001b[39m kwds[\u001b[39m\"\u001b[39m\u001b[39mhas_index_names\u001b[39m\u001b[39m\"\u001b[39m]\n\u001b[1;32m   1441\u001b[0m \u001b[39mself\u001b[39m\u001b[39m.\u001b[39mhandles: IOHandles \u001b[39m|\u001b[39m \u001b[39mNone\u001b[39;00m \u001b[39m=\u001b[39m \u001b[39mNone\u001b[39;00m\n\u001b[0;32m-> 1442\u001b[0m \u001b[39mself\u001b[39m\u001b[39m.\u001b[39m_engine \u001b[39m=\u001b[39m \u001b[39mself\u001b[39;49m\u001b[39m.\u001b[39;49m_make_engine(f, \u001b[39mself\u001b[39;49m\u001b[39m.\u001b[39;49mengine)\n",
      "File \u001b[0;32m/Applications/anaconda3/envs/SEED2022/lib/python3.8/site-packages/pandas/io/parsers/readers.py:1735\u001b[0m, in \u001b[0;36mTextFileReader._make_engine\u001b[0;34m(self, f, engine)\u001b[0m\n\u001b[1;32m   1733\u001b[0m     \u001b[39mif\u001b[39;00m \u001b[39m\"\u001b[39m\u001b[39mb\u001b[39m\u001b[39m\"\u001b[39m \u001b[39mnot\u001b[39;00m \u001b[39min\u001b[39;00m mode:\n\u001b[1;32m   1734\u001b[0m         mode \u001b[39m+\u001b[39m\u001b[39m=\u001b[39m \u001b[39m\"\u001b[39m\u001b[39mb\u001b[39m\u001b[39m\"\u001b[39m\n\u001b[0;32m-> 1735\u001b[0m \u001b[39mself\u001b[39m\u001b[39m.\u001b[39mhandles \u001b[39m=\u001b[39m get_handle(\n\u001b[1;32m   1736\u001b[0m     f,\n\u001b[1;32m   1737\u001b[0m     mode,\n\u001b[1;32m   1738\u001b[0m     encoding\u001b[39m=\u001b[39;49m\u001b[39mself\u001b[39;49m\u001b[39m.\u001b[39;49moptions\u001b[39m.\u001b[39;49mget(\u001b[39m\"\u001b[39;49m\u001b[39mencoding\u001b[39;49m\u001b[39m\"\u001b[39;49m, \u001b[39mNone\u001b[39;49;00m),\n\u001b[1;32m   1739\u001b[0m     compression\u001b[39m=\u001b[39;49m\u001b[39mself\u001b[39;49m\u001b[39m.\u001b[39;49moptions\u001b[39m.\u001b[39;49mget(\u001b[39m\"\u001b[39;49m\u001b[39mcompression\u001b[39;49m\u001b[39m\"\u001b[39;49m, \u001b[39mNone\u001b[39;49;00m),\n\u001b[1;32m   1740\u001b[0m     memory_map\u001b[39m=\u001b[39;49m\u001b[39mself\u001b[39;49m\u001b[39m.\u001b[39;49moptions\u001b[39m.\u001b[39;49mget(\u001b[39m\"\u001b[39;49m\u001b[39mmemory_map\u001b[39;49m\u001b[39m\"\u001b[39;49m, \u001b[39mFalse\u001b[39;49;00m),\n\u001b[1;32m   1741\u001b[0m     is_text\u001b[39m=\u001b[39;49mis_text,\n\u001b[1;32m   1742\u001b[0m     errors\u001b[39m=\u001b[39;49m\u001b[39mself\u001b[39;49m\u001b[39m.\u001b[39;49moptions\u001b[39m.\u001b[39;49mget(\u001b[39m\"\u001b[39;49m\u001b[39mencoding_errors\u001b[39;49m\u001b[39m\"\u001b[39;49m, \u001b[39m\"\u001b[39;49m\u001b[39mstrict\u001b[39;49m\u001b[39m\"\u001b[39;49m),\n\u001b[1;32m   1743\u001b[0m     storage_options\u001b[39m=\u001b[39;49m\u001b[39mself\u001b[39;49m\u001b[39m.\u001b[39;49moptions\u001b[39m.\u001b[39;49mget(\u001b[39m\"\u001b[39;49m\u001b[39mstorage_options\u001b[39;49m\u001b[39m\"\u001b[39;49m, \u001b[39mNone\u001b[39;49;00m),\n\u001b[1;32m   1744\u001b[0m )\n\u001b[1;32m   1745\u001b[0m \u001b[39massert\u001b[39;00m \u001b[39mself\u001b[39m\u001b[39m.\u001b[39mhandles \u001b[39mis\u001b[39;00m \u001b[39mnot\u001b[39;00m \u001b[39mNone\u001b[39;00m\n\u001b[1;32m   1746\u001b[0m f \u001b[39m=\u001b[39m \u001b[39mself\u001b[39m\u001b[39m.\u001b[39mhandles\u001b[39m.\u001b[39mhandle\n",
      "File \u001b[0;32m/Applications/anaconda3/envs/SEED2022/lib/python3.8/site-packages/pandas/io/common.py:856\u001b[0m, in \u001b[0;36mget_handle\u001b[0;34m(path_or_buf, mode, encoding, compression, memory_map, is_text, errors, storage_options)\u001b[0m\n\u001b[1;32m    851\u001b[0m \u001b[39melif\u001b[39;00m \u001b[39misinstance\u001b[39m(handle, \u001b[39mstr\u001b[39m):\n\u001b[1;32m    852\u001b[0m     \u001b[39m# Check whether the filename is to be opened in binary mode.\u001b[39;00m\n\u001b[1;32m    853\u001b[0m     \u001b[39m# Binary mode does not support 'encoding' and 'newline'.\u001b[39;00m\n\u001b[1;32m    854\u001b[0m     \u001b[39mif\u001b[39;00m ioargs\u001b[39m.\u001b[39mencoding \u001b[39mand\u001b[39;00m \u001b[39m\"\u001b[39m\u001b[39mb\u001b[39m\u001b[39m\"\u001b[39m \u001b[39mnot\u001b[39;00m \u001b[39min\u001b[39;00m ioargs\u001b[39m.\u001b[39mmode:\n\u001b[1;32m    855\u001b[0m         \u001b[39m# Encoding\u001b[39;00m\n\u001b[0;32m--> 856\u001b[0m         handle \u001b[39m=\u001b[39m \u001b[39mopen\u001b[39;49m(\n\u001b[1;32m    857\u001b[0m             handle,\n\u001b[1;32m    858\u001b[0m             ioargs\u001b[39m.\u001b[39;49mmode,\n\u001b[1;32m    859\u001b[0m             encoding\u001b[39m=\u001b[39;49mioargs\u001b[39m.\u001b[39;49mencoding,\n\u001b[1;32m    860\u001b[0m             errors\u001b[39m=\u001b[39;49merrors,\n\u001b[1;32m    861\u001b[0m             newline\u001b[39m=\u001b[39;49m\u001b[39m\"\u001b[39;49m\u001b[39m\"\u001b[39;49m,\n\u001b[1;32m    862\u001b[0m         )\n\u001b[1;32m    863\u001b[0m     \u001b[39melse\u001b[39;00m:\n\u001b[1;32m    864\u001b[0m         \u001b[39m# Binary mode\u001b[39;00m\n\u001b[1;32m    865\u001b[0m         handle \u001b[39m=\u001b[39m \u001b[39mopen\u001b[39m(handle, ioargs\u001b[39m.\u001b[39mmode)\n",
      "\u001b[0;31mFileNotFoundError\u001b[0m: [Errno 2] No such file or directory: '/Users/zhengquan/Code/SEED2022/seed2022/guest/output/003_result_202211241039394719460.csv'"
     ]
    }
   ],
   "source": [
    "# 季度数据处理\n",
    "predict_data = pd.read_csv(\n",
    "    base_dir / '003_result_202211241039394719460.csv').sort_values('sid')[[\n",
    "        'sid', 'label', 'predict_result'\n",
    "    ]]\n",
    "predict_data[['ID', 'year',\n",
    "              'season']] = predict_data.apply(parse_sid, axis=1,\n",
    "                                              result_type=\"expand\")\n",
    "predict_data.to_csv('output/result_sort.csv')\n",
    "print(predict_data['predict_result'].describe())\n",
    "\n",
    "\n",
    "# templ_df['result'] = predict_data['label']\n",
    "submit_df = predict_data.loc[(predict_data['season'].astype(float) == 4)\n",
    "                             & (predict_data['year'].astype(float) == 2021)]\n",
    "# print(predict_data['season'].describe())\n",
    "print(submit_df.head())\n",
    "\n",
    "submit_df[['ID', 'predict_result'\n",
    "           ]].to_csv('output/004_submit_202211241039394719460.csv',\n",
    "                     index=False,\n",
    "                     header=False)\n",
    "\n",
    "# predict_data_season = predict_data\n",
    "predict_data_season = predict_data.drop(index=submit_df.index)\n",
    "\n",
    "# predict_data_season[:10].plot()\n",
    "line = plt.plot(range(0, 256),\n",
    "         predict_data_season[0:256][['predict_result', 'label']]) # 黄色是label，蓝色是predict\n",
    "plt.legend(iter(line), ['predict_result', 'label'])\n",
    "print(predict_data_season.shape)\n",
    "# predict_data_season"
   ]
  },
  {
   "cell_type": "code",
   "execution_count": 205,
   "metadata": {},
   "outputs": [
    {
     "name": "stdout",
     "output_type": "stream",
     "text": [
      "均方误差(MSE)：1081242541140988.8\n",
      "根均方误差(RMSE)：32882252.677409265\n",
      "测试集R^2：0.7237538537437911\n"
     ]
    }
   ],
   "source": [
    "from sklearn.metrics import mean_squared_error, r2_score\n",
    "import numpy as np\n",
    "\n",
    "print(f\"均方误差(MSE)：{mean_squared_error(predict_data_season['label'], predict_data_season['predict_result'])}\")\n",
    "print(f\"根均方误差(RMSE)：{np.sqrt(mean_squared_error(predict_data_season['label'], predict_data_season['predict_result']))}\")\n",
    "print(\n",
    "    f\"测试集R^2：{r2_score(predict_data_season['label'], predict_data_season['predict_result'])}\"\n",
    ")\n"
   ]
  },
  {
   "cell_type": "code",
   "execution_count": null,
   "metadata": {},
   "outputs": [],
   "source": [
    "gover_df = pd.read_csv(base_dir / 'gover_data_train_3_all.csv')\n",
    "print(gover_df.columns)\n",
    "\n",
    "print(gover_df['sjje_per_month'].describe())\n",
    "\n",
    "y_data = [\n",
    "    'sjje_per_month', 'month_amount', 'year_amount', 'season'\n",
    "]\n",
    "lineObjects = plt.plot(gover_df[24:48]['idx'], gover_df[24:48][y_data])  # 黄色是label，蓝色是 sjje_per_month\n",
    "\n",
    "# lineObjects = plt.plot(x, y)\n",
    "plt.yscale('log')\n",
    "plt.legend(iter(lineObjects), y_data)\n",
    "\n",
    "\n",
    "# gover_df.loc[(gover_df['season'] == 4) & (gover_df['year'].isin([2021, 2020])),'sjje_per_month'] = 4\n",
    "# gover_df\n",
    "# plt.plot(gover_df[:72]['idx'], gover_df[:72]['sjje_per_month'])  # 黄色是label，蓝色是 sjje_per_month\n",
    "\n",
    "# plt.legend()\n"
   ]
  },
  {
   "cell_type": "markdown",
   "metadata": {},
   "source": [
    "## 异常数据分析"
   ]
  },
  {
   "cell_type": "code",
   "execution_count": 52,
   "metadata": {},
   "outputs": [
    {
     "name": "stdout",
     "output_type": "stream",
     "text": [
      "Index(['sid', 'month_amount', 'year_amount', 'season', 'zijin', 'year',\n",
      "       'month_amount_avg', 'y_avg', 'year_y_avg', 'sjje_per_month',\n",
      "       'year_month_amount_avg'],\n",
      "      dtype='object')\n",
      "count    1.000000e+04\n",
      "mean     4.310400e+06\n",
      "std      2.000009e+07\n",
      "min      3.750000e+00\n",
      "25%      1.047275e+05\n",
      "50%      6.161655e+05\n",
      "75%      2.437319e+06\n",
      "max      5.442100e+08\n",
      "Name: sjje_per_month, dtype: float64\n"
     ]
    },
    {
     "data": {
      "image/png": "[encoded data removed]",
      "text/plain": [
       "<Figure size 640x480 with 1 Axes>"
      ]
     },
     "metadata": {},
     "output_type": "display_data"
    },
    {
     "data": {
      "image/png": "[encoded data removed]",
      "text/plain": [
       "<Figure size 1000x600 with 1 Axes>"
      ]
     },
     "metadata": {},
     "output_type": "display_data"
    },
    {
     "data": {
      "text/plain": [
       "count    10000.000000\n",
       "mean         1.847902\n",
       "std          8.574195\n",
       "min          0.000002\n",
       "25%          0.044897\n",
       "50%          0.264155\n",
       "75%          1.044897\n",
       "max        233.307074\n",
       "Name: sjje_per_month_log_robust, dtype: float64"
      ]
     },
     "execution_count": 52,
     "metadata": {},
     "output_type": "execute_result"
    }
   ],
   "source": [
    "gover_df = pd.read_csv(base_dir / '001_gover_data_train_simple_mean.csv')\n",
    "print(gover_df.columns)\n",
    "\n",
    "print(gover_df['sjje_per_month'].describe())\n",
    "\n",
    "y_data = ['sjje_per_month', 'month_amount', 'year_amount', 'season']\n",
    "y_data = ['sjje_per_month']\n",
    "lineObjects = plt.plot(range(0, gover_df.shape[0]),\n",
    "                       gover_df[y_data])  # 黄色是label，蓝色是 sjje_per_month\n",
    "\n",
    "# lineObjects = plt.plot(x, y)\n",
    "# plt.yscale('log')\n",
    "# plt.legend(iter(lineObjects), y_data)\n",
    "\n",
    "# gover_df.loc[(gover_df['season'] == 4) & (gover_df['year'].isin([2021, 2020])),'sjje_per_month'] = 4\n",
    "# gover_df\n",
    "# plt.plot(gover_df[:72]['idx'], gover_df[:72]['sjje_per_month'])  # 黄色是label，蓝色是 sjje_per_month\n",
    "\n",
    "# plt.legend()\n",
    "\n",
    "num_bins = 50\n",
    "plt.figure(figsize=(10, 6))\n",
    "n, bins, patches = plt.hist(gover_df['sjje_per_month'],\n",
    "                            num_bins,\n",
    "                            facecolor='blue',\n",
    "                            alpha=0.5)\n",
    "plt.xlabel('Polarity')\n",
    "plt.ylabel('Count')\n",
    "plt.title('Histogram of polarity')\n",
    "plt.show()\n",
    "\n",
    "\n",
    "# price，规格 去除 outlier\n",
    "from sklearn.preprocessing import RobustScaler\n",
    "\n",
    "robustScale = RobustScaler(with_centering=False)\n",
    "res = robustScale.fit_transform(gover_df[['sjje_per_month']].values)\n",
    "gover_df['sjje_per_month_log_robust'] = res[:, 0]\n",
    "gover_df['sjje_per_month_log_robust'].describe()"
   ]
  },
  {
   "cell_type": "code",
   "execution_count": 30,
   "metadata": {},
   "outputs": [
    {
     "name": "stdout",
     "output_type": "stream",
     "text": [
      "(10000, 11)\n"
     ]
    },
    {
     "data": {
      "text/html": [
       "<div>\n",
       "<style scoped>\n",
       "    .dataframe tbody tr th:only-of-type {\n",
       "        vertical-align: middle;\n",
       "    }\n",
       "\n",
       "    .dataframe tbody tr th {\n",
       "        vertical-align: top;\n",
       "    }\n",
       "\n",
       "    .dataframe thead th {\n",
       "        text-align: right;\n",
       "    }\n",
       "</style>\n",
       "<table border=\"1\" class=\"dataframe\">\n",
       "  <thead>\n",
       "    <tr style=\"text-align: right;\">\n",
       "      <th></th>\n",
       "      <th>sid</th>\n",
       "      <th>month_amount</th>\n",
       "      <th>year_amount</th>\n",
       "      <th>season</th>\n",
       "      <th>zijin</th>\n",
       "      <th>year</th>\n",
       "      <th>month_amount_avg</th>\n",
       "      <th>y_avg</th>\n",
       "      <th>year_y_avg</th>\n",
       "      <th>sjje_per_month</th>\n",
       "      <th>year_month_amount_avg</th>\n",
       "    </tr>\n",
       "  </thead>\n",
       "  <tbody>\n",
       "    <tr>\n",
       "      <th>0</th>\n",
       "      <td>2022002201701</td>\n",
       "      <td>2.254535e+08</td>\n",
       "      <td>1.441088e+09</td>\n",
       "      <td>0</td>\n",
       "      <td>7500.0</td>\n",
       "      <td>0</td>\n",
       "      <td>1.944321e+08</td>\n",
       "      <td>1347804.55</td>\n",
       "      <td>791071.25</td>\n",
       "      <td>13162.75</td>\n",
       "      <td>2.254535e+08</td>\n",
       "    </tr>\n",
       "    <tr>\n",
       "      <th>1</th>\n",
       "      <td>2022002201702</td>\n",
       "      <td>2.254535e+08</td>\n",
       "      <td>1.441088e+09</td>\n",
       "      <td>1</td>\n",
       "      <td>7500.0</td>\n",
       "      <td>0</td>\n",
       "      <td>2.405347e+08</td>\n",
       "      <td>4944806.15</td>\n",
       "      <td>791071.25</td>\n",
       "      <td>13162.75</td>\n",
       "      <td>2.254535e+08</td>\n",
       "    </tr>\n",
       "  </tbody>\n",
       "</table>\n",
       "</div>"
      ],
      "text/plain": [
       "             sid  month_amount   year_amount  season   zijin  year  \\\n",
       "0  2022002201701  2.254535e+08  1.441088e+09       0  7500.0     0   \n",
       "1  2022002201702  2.254535e+08  1.441088e+09       1  7500.0     0   \n",
       "\n",
       "   month_amount_avg       y_avg  year_y_avg  sjje_per_month  \\\n",
       "0      1.944321e+08  1347804.55   791071.25        13162.75   \n",
       "1      2.405347e+08  4944806.15   791071.25        13162.75   \n",
       "\n",
       "   year_month_amount_avg  \n",
       "0           2.254535e+08  \n",
       "1           2.254535e+08  "
      ]
     },
     "execution_count": 30,
     "metadata": {},
     "output_type": "execute_result"
    }
   ],
   "source": [
    "gover_df = pd.read_csv(base_dir / '001_gover_data_train_simple_mean.csv')\n",
    "print(gover_df.shape)\n",
    "gover_df.head(2)"
   ]
  },
  {
   "cell_type": "code",
   "execution_count": 45,
   "metadata": {},
   "outputs": [
    {
     "data": {
      "text/html": [
       "<div>\n",
       "<style scoped>\n",
       "    .dataframe tbody tr th:only-of-type {\n",
       "        vertical-align: middle;\n",
       "    }\n",
       "\n",
       "    .dataframe tbody tr th {\n",
       "        vertical-align: top;\n",
       "    }\n",
       "\n",
       "    .dataframe thead th {\n",
       "        text-align: right;\n",
       "    }\n",
       "</style>\n",
       "<table border=\"1\" class=\"dataframe\">\n",
       "  <thead>\n",
       "    <tr style=\"text-align: right;\">\n",
       "      <th></th>\n",
       "      <th>season</th>\n",
       "      <th>mean</th>\n",
       "      <th>std</th>\n",
       "    </tr>\n",
       "  </thead>\n",
       "  <tbody>\n",
       "    <tr>\n",
       "      <th>0</th>\n",
       "      <td>0</td>\n",
       "      <td>3.921821e+06</td>\n",
       "      <td>1.982959e+07</td>\n",
       "    </tr>\n",
       "    <tr>\n",
       "      <th>1</th>\n",
       "      <td>1</td>\n",
       "      <td>4.162447e+06</td>\n",
       "      <td>2.049043e+07</td>\n",
       "    </tr>\n",
       "    <tr>\n",
       "      <th>2</th>\n",
       "      <td>2</td>\n",
       "      <td>3.892194e+06</td>\n",
       "      <td>1.772091e+07</td>\n",
       "    </tr>\n",
       "    <tr>\n",
       "      <th>3</th>\n",
       "      <td>3</td>\n",
       "      <td>5.265136e+06</td>\n",
       "      <td>2.172864e+07</td>\n",
       "    </tr>\n",
       "  </tbody>\n",
       "</table>\n",
       "</div>"
      ],
      "text/plain": [
       "   season          mean           std\n",
       "0       0  3.921821e+06  1.982959e+07\n",
       "1       1  4.162447e+06  2.049043e+07\n",
       "2       2  3.892194e+06  1.772091e+07\n",
       "3       3  5.265136e+06  2.172864e+07"
      ]
     },
     "execution_count": 45,
     "metadata": {},
     "output_type": "execute_result"
    }
   ],
   "source": [
    "price_mean = gover_df.groupby('season').agg(\n",
    "    {'sjje_per_month': [np.mean, np.std]})\n",
    "price_mean = price_mean.droplevel(0, axis=1).reset_index()\n",
    "price_mean.head(10)"
   ]
  },
  {
   "cell_type": "code",
   "execution_count": 36,
   "metadata": {},
   "outputs": [
    {
     "name": "stdout",
     "output_type": "stream",
     "text": [
      "(9829, 11)\n"
     ]
    },
    {
     "data": {
      "text/html": [
       "<div>\n",
       "<style scoped>\n",
       "    .dataframe tbody tr th:only-of-type {\n",
       "        vertical-align: middle;\n",
       "    }\n",
       "\n",
       "    .dataframe tbody tr th {\n",
       "        vertical-align: top;\n",
       "    }\n",
       "\n",
       "    .dataframe thead th {\n",
       "        text-align: right;\n",
       "    }\n",
       "</style>\n",
       "<table border=\"1\" class=\"dataframe\">\n",
       "  <thead>\n",
       "    <tr style=\"text-align: right;\">\n",
       "      <th></th>\n",
       "      <th>sid</th>\n",
       "      <th>month_amount</th>\n",
       "      <th>year_amount</th>\n",
       "      <th>season</th>\n",
       "      <th>zijin</th>\n",
       "      <th>year</th>\n",
       "      <th>month_amount_avg</th>\n",
       "      <th>y_avg</th>\n",
       "      <th>year_y_avg</th>\n",
       "      <th>sjje_per_month</th>\n",
       "      <th>year_month_amount_avg</th>\n",
       "    </tr>\n",
       "  </thead>\n",
       "  <tbody>\n",
       "    <tr>\n",
       "      <th>0</th>\n",
       "      <td>2022002201701</td>\n",
       "      <td>2.254535e+08</td>\n",
       "      <td>1.441088e+09</td>\n",
       "      <td>0</td>\n",
       "      <td>7500.0</td>\n",
       "      <td>0</td>\n",
       "      <td>1.944321e+08</td>\n",
       "      <td>1347804.55</td>\n",
       "      <td>791071.25</td>\n",
       "      <td>13162.75</td>\n",
       "      <td>2.254535e+08</td>\n",
       "    </tr>\n",
       "    <tr>\n",
       "      <th>1</th>\n",
       "      <td>2022002201702</td>\n",
       "      <td>2.254535e+08</td>\n",
       "      <td>1.441088e+09</td>\n",
       "      <td>1</td>\n",
       "      <td>7500.0</td>\n",
       "      <td>0</td>\n",
       "      <td>2.405347e+08</td>\n",
       "      <td>4944806.15</td>\n",
       "      <td>791071.25</td>\n",
       "      <td>13162.75</td>\n",
       "      <td>2.254535e+08</td>\n",
       "    </tr>\n",
       "    <tr>\n",
       "      <th>2</th>\n",
       "      <td>2022002201703</td>\n",
       "      <td>2.254535e+08</td>\n",
       "      <td>1.441088e+09</td>\n",
       "      <td>2</td>\n",
       "      <td>7500.0</td>\n",
       "      <td>0</td>\n",
       "      <td>2.363180e+08</td>\n",
       "      <td>2145271.55</td>\n",
       "      <td>791071.25</td>\n",
       "      <td>36579.75</td>\n",
       "      <td>2.254535e+08</td>\n",
       "    </tr>\n",
       "    <tr>\n",
       "      <th>3</th>\n",
       "      <td>2022002201704</td>\n",
       "      <td>2.254535e+08</td>\n",
       "      <td>1.441088e+09</td>\n",
       "      <td>3</td>\n",
       "      <td>7500.0</td>\n",
       "      <td>0</td>\n",
       "      <td>2.305291e+08</td>\n",
       "      <td>1789801.95</td>\n",
       "      <td>791071.25</td>\n",
       "      <td>3101379.75</td>\n",
       "      <td>2.254535e+08</td>\n",
       "    </tr>\n",
       "    <tr>\n",
       "      <th>4</th>\n",
       "      <td>2022002201801</td>\n",
       "      <td>2.552600e+08</td>\n",
       "      <td>1.493814e+09</td>\n",
       "      <td>0</td>\n",
       "      <td>7500.0</td>\n",
       "      <td>1</td>\n",
       "      <td>1.944321e+08</td>\n",
       "      <td>1347804.55</td>\n",
       "      <td>5167343.50</td>\n",
       "      <td>2212861.00</td>\n",
       "      <td>2.725918e+08</td>\n",
       "    </tr>\n",
       "  </tbody>\n",
       "</table>\n",
       "</div>"
      ],
      "text/plain": [
       "             sid  month_amount   year_amount  season   zijin  year  \\\n",
       "0  2022002201701  2.254535e+08  1.441088e+09       0  7500.0     0   \n",
       "1  2022002201702  2.254535e+08  1.441088e+09       1  7500.0     0   \n",
       "2  2022002201703  2.254535e+08  1.441088e+09       2  7500.0     0   \n",
       "3  2022002201704  2.254535e+08  1.441088e+09       3  7500.0     0   \n",
       "4  2022002201801  2.552600e+08  1.493814e+09       0  7500.0     1   \n",
       "\n",
       "   month_amount_avg       y_avg  year_y_avg  sjje_per_month  \\\n",
       "0      1.944321e+08  1347804.55   791071.25        13162.75   \n",
       "1      2.405347e+08  4944806.15   791071.25        13162.75   \n",
       "2      2.363180e+08  2145271.55   791071.25        36579.75   \n",
       "3      2.305291e+08  1789801.95   791071.25      3101379.75   \n",
       "4      1.944321e+08  1347804.55  5167343.50      2212861.00   \n",
       "\n",
       "   year_month_amount_avg  \n",
       "0           2.254535e+08  \n",
       "1           2.254535e+08  \n",
       "2           2.254535e+08  \n",
       "3           2.254535e+08  \n",
       "4           2.725918e+08  "
      ]
     },
     "execution_count": 36,
     "metadata": {},
     "output_type": "execute_result"
    }
   ],
   "source": [
    "# gover_df = pd.read_csv(base_dir / '001_gover_data_train_simple_mean.csv')\n",
    "# price，规格 去除 outlier\n",
    "\n",
    "\n",
    "def remove_outlier_price(x):\n",
    "    y = price_mean[price_mean['season'] == x[\"season\"]]\n",
    "    if np.abs(x['sjje_per_month'] -\n",
    "              y['mean'].values[0]) <= (2 * y['std'].values[0]):\n",
    "        return True\n",
    "    return False\n",
    "\n",
    "\n",
    "# data[np.abs(data['A'] - data['A'].mean()) <= (3 * data['A'].std())]\n",
    "\n",
    "filt = gover_df.apply(lambda x: remove_outlier_price(x), axis=1)\n",
    "df = gover_df[filt]\n",
    "print(df.shape)\n",
    "df.head()"
   ]
  },
  {
   "cell_type": "code",
   "execution_count": 43,
   "metadata": {},
   "outputs": [
    {
     "data": {
      "image/png": "[encoded data removed]",
      "text/plain": [
       "<Figure size 1000x600 with 1 Axes>"
      ]
     },
     "metadata": {},
     "output_type": "display_data"
    }
   ],
   "source": [
    "num_bins = 50\n",
    "plt.figure(figsize=(10, 6))\n",
    "n, bins, patches = plt.hist(df['sjje_per_month'],\n",
    "                            num_bins,\n",
    "                            facecolor='blue',\n",
    "                            alpha=0.5)\n",
    "\n",
    "plt.xlabel('Polarity')\n",
    "plt.ylabel('Count')\n",
    "# plt.yscale('log')\n",
    "plt.title('Histogram of polarity')\n",
    "plt.show()"
   ]
  },
  {
   "cell_type": "code",
   "execution_count": 42,
   "metadata": {},
   "outputs": [
    {
     "data": {
      "image/png": "[encoded data removed]",
      "text/plain": [
       "<Figure size 1000x600 with 1 Axes>"
      ]
     },
     "metadata": {},
     "output_type": "display_data"
    }
   ],
   "source": [
    "# 将特征数据做log转换，做倒数转换等等\n",
    "import numpy as np\n",
    "from sklearn.preprocessing import FunctionTransformer\n",
    "\n",
    "log_transform = FunctionTransformer(np.log1p)\n",
    "# x = np.array([[0, 1], [2, 3]])\n",
    "df['sjje_per_month_log'] = log_transform.fit_transform(df['sjje_per_month'])\n",
    "plt.figure(figsize=(10, 6))\n",
    "n, bins, patches = plt.hist(df['sjje_per_month_log'],\n",
    "                            num_bins,\n",
    "                            facecolor='blue',\n",
    "                            alpha=0.5)\n",
    "plt.xlabel('Polarity')\n",
    "plt.ylabel('Count')\n",
    "plt.title('Histogram of polarity')\n",
    "plt.show()\n"
   ]
  },
  {
   "cell_type": "code",
   "execution_count": 73,
   "metadata": {},
   "outputs": [
    {
     "name": "stdout",
     "output_type": "stream",
     "text": [
      "     1    2    3\n",
      "0  0.0 -2.0  2.0\n",
      "1 -1.0  1.0  3.0\n",
      "2  1.0  1.0 -2.0\n"
     ]
    }
   ],
   "source": [
    "from sklearn.preprocessing import RobustScaler\n",
    "\n",
    "X = [[1., -2., 2.], [-2., 1., 3.], [4., 1., -2.]]\n",
    "df = pd.DataFrame(X, columns=['1', '2', '3'])\n",
    "# print(df.head())\n",
    "transformer = RobustScaler().fit(df[['1']])\n",
    "transformer\n",
    "\n",
    "df[['1']] = transformer.transform(df[['1']])\n",
    "print(df)\n",
    "# transformer.get_params()\n"
   ]
  },
  {
   "cell_type": "code",
   "execution_count": 56,
   "metadata": {},
   "outputs": [
    {
     "data": {
      "text/plain": [
       "array([[ 1., -2.,  2.],\n",
       "       [-2.,  1.,  3.],\n",
       "       [ 4.,  1., -2.]])"
      ]
     },
     "execution_count": 56,
     "metadata": {},
     "output_type": "execute_result"
    }
   ],
   "source": [
    "transformer.inverse_transform()"
   ]
  },
  {
   "cell_type": "markdown",
   "metadata": {},
   "source": [
    "### 误差分析"
   ]
  },
  {
   "cell_type": "code",
   "execution_count": 11,
   "metadata": {},
   "outputs": [
    {
     "name": "stdout",
     "output_type": "stream",
     "text": [
      "(1100, 6)\n",
      "(1100, 8)\n"
     ]
    }
   ],
   "source": [
    "predict_data = pd.read_csv(\n",
    "    base_dir / '003_result_202211242024247268930.csv').sort_values('sid')[[\n",
    "        'sid', 'label', 'predict_result'\n",
    "    ]]\n",
    "predict_data[['ID', 'year',\n",
    "              'season']] = predict_data.apply(parse_sid,\n",
    "                                              axis=1,\n",
    "                                              result_type=\"expand\")\n",
    "predict_data = predict_data.loc[~((predict_data['season'].astype(float) == 4)\n",
    "                                & (predict_data['year'].astype(float) == 2021))]\n",
    "print(predict_data.shape)\n",
    "\n",
    "\n",
    "predict_data['error'] = predict_data['label'] - predict_data['predict_result']\n",
    "predict_data['error_abs'] = np.abs(predict_data['error'])\n",
    "predict_data.to_csv('output/005_error_tmp.csv')\n",
    "print(predict_data.shape)"
   ]
  },
  {
   "cell_type": "code",
   "execution_count": 23,
   "metadata": {},
   "outputs": [
    {
     "name": "stdout",
     "output_type": "stream",
     "text": [
      "(1900, 12)\n"
     ]
    }
   ],
   "source": [
    "test_data = pd.read_csv(base_dir / '001_gover_data_valid_simple_mean.csv')\n",
    "print(test_data.shape)\n",
    "error_data = predict_data.merge(test_data, on='sid', how='left').sort_values(['error_abs', 'ID'], ascending=False)\n",
    "error_data['m2y_avg'] = error_data['month_amount'] / 10000 / error_data['zijin']\n",
    "error_data.to_csv('output/005_error.csv')\n"
   ]
  },
  {
   "cell_type": "code",
   "execution_count": 26,
   "metadata": {},
   "outputs": [
    {
     "name": "stdout",
     "output_type": "stream",
     "text": [
      "count    1.100000e+03\n",
      "mean     7.936054e+06\n",
      "std      3.274528e+07\n",
      "min      2.904108e+02\n",
      "25%      2.662533e+05\n",
      "50%      4.692858e+05\n",
      "75%      1.158665e+06\n",
      "max      3.922715e+08\n",
      "Name: error_abs, dtype: float64\n",
      "30596414.4720904 12328980.866073476 31680.73557613636 919902292.561299\n",
      "382599.99311583466 -235870.84322151772 8068.482241287878 90914971.78672805\n"
     ]
    }
   ],
   "source": [
    "print(error_data['error_abs'].describe())\n",
    "line_3q = error_data['error_abs'].describe()['75%']\n",
    "bad_df = error_data[error_data['error_abs'] >= line_3q]\n",
    "good_df = error_data[error_data['error_abs'] < line_3q]\n",
    "print(bad_df['error_abs'].mean(), bad_df['error'].mean(),\n",
    "      bad_df['zijin'].mean(), bad_df['month_amount'].mean())\n",
    "print(good_df['error_abs'].mean(), good_df['error'].mean(),\n",
    "      good_df['zijin'].mean(), good_df['month_amount'].mean())"
   ]
  }
 ],
 "metadata": {
  "kernelspec": {
   "display_name": "Python 3.8.13 ('SEED2022')",
   "language": "python",
   "name": "python3"
  },
  "language_info": {
   "codemirror_mode": {
    "name": "ipython",
    "version": 3
   },
   "file_extension": ".py",
   "mimetype": "text/x-python",
   "name": "python",
   "nbconvert_exporter": "python",
   "pygments_lexer": "ipython3",
   "version": "3.8.13"
  },
  "orig_nbformat": 4,
  "vscode": {
   "interpreter": {
    "hash": "30f81107745a8770f9d92aceccee7cefaf50698ac00b5a3aa8aed0582bf7719d"
   }
  }
 },
 "nbformat": 4,
 "nbformat_minor": 2
}
